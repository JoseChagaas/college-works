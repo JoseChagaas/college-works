{
 "cells": [
  {
   "cell_type": "code",
   "execution_count": 3,
   "id": "2dd02877-d55b-418f-993e-803a1d7854d1",
   "metadata": {},
   "outputs": [],
   "source": [
    "import pandas as pd"
   ]
  },
  {
   "cell_type": "code",
   "execution_count": 11,
   "id": "6c04514c-4ba4-44bf-81ba-5da30cade9f1",
   "metadata": {},
   "outputs": [],
   "source": [
    "df = pd.read_csv(r\"C:\\Users\\José Lucas\\Desktop\\Repositórios GitHub\\persons-per-family\\raw\\Levantamento_de_Moradore.csv\")"
   ]
  },
  {
   "cell_type": "code",
   "execution_count": 13,
   "id": "5861ef1a-d2dc-44d8-bbfd-29a6f792f808",
   "metadata": {},
   "outputs": [
    {
     "data": {
      "text/plain": [
       "(24, 3)"
      ]
     },
     "execution_count": 13,
     "metadata": {},
     "output_type": "execute_result"
    }
   ],
   "source": [
    "df.shape"
   ]
  },
  {
   "cell_type": "code",
   "execution_count": 16,
   "id": "71bfc041-92b9-4ae6-8ca2-62417b96c118",
   "metadata": {},
   "outputs": [
    {
     "data": {
      "text/html": [
       "<div>\n",
       "<style scoped>\n",
       "    .dataframe tbody tr th:only-of-type {\n",
       "        vertical-align: middle;\n",
       "    }\n",
       "\n",
       "    .dataframe tbody tr th {\n",
       "        vertical-align: top;\n",
       "    }\n",
       "\n",
       "    .dataframe thead th {\n",
       "        text-align: right;\n",
       "    }\n",
       "</style>\n",
       "<table border=\"1\" class=\"dataframe\">\n",
       "  <thead>\n",
       "    <tr style=\"text-align: right;\">\n",
       "      <th></th>\n",
       "      <th>Carimbo de data/hora</th>\n",
       "      <th>Quantas pessoas moram na sua casa? (Contando com você)</th>\n",
       "      <th>Qual estado você mora?</th>\n",
       "    </tr>\n",
       "  </thead>\n",
       "  <tbody>\n",
       "    <tr>\n",
       "      <th>0</th>\n",
       "      <td>23/08/2025 13:48:14</td>\n",
       "      <td>3</td>\n",
       "      <td>Rio de Janeiro</td>\n",
       "    </tr>\n",
       "    <tr>\n",
       "      <th>1</th>\n",
       "      <td>23/08/2025 13:50:19</td>\n",
       "      <td>2</td>\n",
       "      <td>Rio de Janeiro</td>\n",
       "    </tr>\n",
       "    <tr>\n",
       "      <th>2</th>\n",
       "      <td>23/08/2025 13:55:08</td>\n",
       "      <td>1</td>\n",
       "      <td>Rio de janeiro</td>\n",
       "    </tr>\n",
       "    <tr>\n",
       "      <th>3</th>\n",
       "      <td>23/08/2025 14:03:45</td>\n",
       "      <td>3</td>\n",
       "      <td>Rio de janeiro</td>\n",
       "    </tr>\n",
       "    <tr>\n",
       "      <th>4</th>\n",
       "      <td>23/08/2025 14:08:28</td>\n",
       "      <td>3</td>\n",
       "      <td>RJ</td>\n",
       "    </tr>\n",
       "  </tbody>\n",
       "</table>\n",
       "</div>"
      ],
      "text/plain": [
       "  Carimbo de data/hora  \\\n",
       "0  23/08/2025 13:48:14   \n",
       "1  23/08/2025 13:50:19   \n",
       "2  23/08/2025 13:55:08   \n",
       "3  23/08/2025 14:03:45   \n",
       "4  23/08/2025 14:08:28   \n",
       "\n",
       "   Quantas pessoas moram na sua casa? (Contando com você)  \\\n",
       "0                                                  3        \n",
       "1                                                  2        \n",
       "2                                                  1        \n",
       "3                                                  3        \n",
       "4                                                  3        \n",
       "\n",
       "  Qual estado você mora?  \n",
       "0        Rio de Janeiro   \n",
       "1        Rio de Janeiro   \n",
       "2        Rio de janeiro   \n",
       "3        Rio de janeiro   \n",
       "4                     RJ  "
      ]
     },
     "execution_count": 16,
     "metadata": {},
     "output_type": "execute_result"
    }
   ],
   "source": [
    "df.head()"
   ]
  },
  {
   "cell_type": "code",
   "execution_count": 17,
   "id": "b35a7e67-8bdd-4d8e-848a-a23e1f08365e",
   "metadata": {},
   "outputs": [],
   "source": [
    "#Essa variavel recebe todos os valores de integrantes da família\n",
    "coluna_pessoas = \"Quantas pessoas moram na sua casa? (Contando com você)\"\n",
    "\n",
    "resultado = df[coluna_pessoas].value_counts().sort_index()"
   ]
  },
  {
   "cell_type": "code",
   "execution_count": 18,
   "id": "a9e28996-926c-411c-8e23-1bbafcba4830",
   "metadata": {},
   "outputs": [
    {
     "name": "stdout",
     "output_type": "stream",
     "text": [
      "Quantas pessoas moram na sua casa? (Contando com você)\n",
      "1      2\n",
      "2      5\n",
      "3     10\n",
      "4      4\n",
      "5      1\n",
      "6      1\n",
      "21     1\n",
      "Name: count, dtype: int64\n"
     ]
    }
   ],
   "source": [
    "print(resultado)"
   ]
  },
  {
   "cell_type": "code",
   "execution_count": null,
   "id": "1cb65ad9-8254-49b0-88fb-9b1954a55b37",
   "metadata": {},
   "outputs": [],
   "source": [
    "resultado.plot(kind=\"bar\", xlabel=\"Número de pessoas\", ylabel=\"Quantidade de famílias\", title=\"Distribuição de famílias por número de pessoas\")\n"
   ]
  },
  {
   "cell_type": "code",
   "execution_count": null,
   "id": "59d78b78-0d99-4891-a00c-5848d6d4a678",
   "metadata": {},
   "outputs": [],
   "source": []
  },
  {
   "cell_type": "code",
   "execution_count": null,
   "id": "692aa59b-258a-4a67-9d14-3a96f927d195",
   "metadata": {},
   "outputs": [],
   "source": []
  }
 ],
 "metadata": {
  "kernelspec": {
   "display_name": "Python [conda env:base] *",
   "language": "python",
   "name": "conda-base-py"
  },
  "language_info": {
   "codemirror_mode": {
    "name": "ipython",
    "version": 3
   },
   "file_extension": ".py",
   "mimetype": "text/x-python",
   "name": "python",
   "nbconvert_exporter": "python",
   "pygments_lexer": "ipython3",
   "version": "3.12.7"
  }
 },
 "nbformat": 4,
 "nbformat_minor": 5
}
